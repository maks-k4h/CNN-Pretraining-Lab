{
 "cells": [
  {
   "cell_type": "code",
   "execution_count": 18,
   "metadata": {
    "collapsed": true,
    "id": "mOBQmS0oU_KL"
   },
   "outputs": [],
   "source": [
    "import statistics\n",
    "import matplotlib.pyplot as plt\n",
    "import torch\n",
    "import torchvision\n",
    "from torchvision.datasets import CelebA\n",
    "from AlexNet.MyAlexNetPretrainer import AlexNetMini, AlexNetPretrainer\n",
    "from torch.utils.data import DataLoader"
   ]
  },
  {
   "cell_type": "code",
   "execution_count": 19,
   "outputs": [],
   "source": [
    "standard_transform = torchvision.transforms.Compose([\n",
    "    torchvision.transforms.PILToTensor(),\n",
    "    torchvision.transforms.ConvertImageDtype(torch.float),\n",
    "    torchvision.transforms.Resize(size=223),\n",
    "    torchvision.transforms.CenterCrop(size=223),\n",
    "    torchvision.transforms.Lambda(lambda x: x.to('cuda'))\n",
    "])\n",
    "target_transform = torchvision.transforms.Lambda(lambda x: x.to('cuda', dtype=torch.float))"
   ],
   "metadata": {
    "id": "5kbLD2deU_KO"
   }
  },
  {
   "cell_type": "code",
   "execution_count": 20,
   "outputs": [
    {
     "output_type": "stream",
     "name": "stdout",
     "text": [
      "Files already downloaded and verified\n",
      "Files already downloaded and verified\n",
      "Files already downloaded and verified\n"
     ]
    }
   ],
   "source": [
    "train_dataset = CelebA('', download=True, split='train', transform=standard_transform, target_transform=target_transform)\n",
    "valid_dataset = CelebA('', download=True, split='valid', transform=standard_transform, target_transform=target_transform)\n",
    "test_dataset = CelebA('', download=True, split='test', transform=standard_transform, target_transform=target_transform)"
   ],
   "metadata": {
    "colab": {
     "base_uri": "https://localhost:8080/"
    },
    "id": "JGKlZXNGU_KP",
    "outputId": "955ddbfb-f06b-44fe-baae-ba5a76375301"
   }
  },
  {
   "cell_type": "code",
   "execution_count": 21,
   "outputs": [
    {
     "output_type": "execute_result",
     "data": {
      "text/plain": [
       "<All keys matched successfully>"
      ]
     },
     "metadata": {},
     "execution_count": 21
    }
   ],
   "source": [
    "pretrainer = AlexNetPretrainer()\n",
    "pretrainer.load_state_dict(torch.load('celeba_pretrainer.pt'))"
   ],
   "metadata": {
    "colab": {
     "base_uri": "https://localhost:8080/"
    },
    "id": "pvwWq1eqU_KP",
    "outputId": "eb7b76db-8f9c-4091-e667-1fee80990fd4"
   }
  },
  {
   "cell_type": "code",
   "execution_count": 22,
   "outputs": [],
   "source": [
    "model = AlexNetMini(40)"
   ],
   "metadata": {
    "id": "r2__6vq4U_KQ"
   }
  },
  {
   "cell_type": "code",
   "execution_count": 23,
   "outputs": [],
   "source": [
    "pretrainer.appy_weights(model)"
   ],
   "metadata": {
    "id": "aCQnSqasU_KQ"
   }
  },
  {
   "cell_type": "code",
   "execution_count": 24,
   "outputs": [],
   "source": [
    "def get_error(dataloader, model):\n",
    "  with torch.no_grad():\n",
    "    errors = []\n",
    "    for x, y in dataloader:\n",
    "      y_h = torch.sigmoid(model.forward(x)).round()\n",
    "      errors.append(float(torch.nn.MSELoss()(y, y_h)))\n",
    "    return statistics.mean(errors)"
   ],
   "metadata": {
    "id": "xdUODTEJU_KR"
   }
  },
  {
   "cell_type": "code",
   "execution_count": 25,
   "outputs": [],
   "source": [
    "train_batch_sz = 32\n",
    "test_batch_sz = 512\n",
    "valid_batch_sz = 512"
   ],
   "metadata": {
    "id": "QRBe_XnQU_KS"
   }
  },
  {
   "cell_type": "code",
   "source": [
    "train_dataloader = DataLoader(train_dataset, train_batch_sz, shuffle=True)\n",
    "test_dataloader = DataLoader(test_dataset, test_batch_sz)\n",
    "valid_dataloader = DataLoader(valid_dataset, valid_batch_sz)"
   ],
   "metadata": {
    "id": "Jg9zSBtBZHUm"
   },
   "execution_count": 26,
   "outputs": []
  },
  {
   "cell_type": "code",
   "execution_count": 27,
   "outputs": [],
   "source": [
    "def train(model, train_dataloader, valid_dataloader, optimizer, loss_fn, epochs):\n",
    "\n",
    "    N = len(train_dataloader)\n",
    "    Nb = max(1, N // 16)\n",
    "\n",
    "    for epoch in range(epochs):\n",
    "        print('Epoch', epoch + 1)\n",
    "        epoch_losses = []\n",
    "        batches_losses = []\n",
    "        model.train()\n",
    "\n",
    "        for bn, (x, y) in enumerate(train_dataloader):\n",
    "\n",
    "            # reporting the number of batches done\n",
    "            if (bn + 1) % Nb == 0:\n",
    "                print('[{:6} | {:6}] loss: {}'.format(bn + 1, N, statistics.mean(batches_losses)))\n",
    "                batches_losses.clear()\n",
    "\n",
    "            #\n",
    "            y_h = torch.sigmoid(model.forward(x))\n",
    "            loss = loss_fn(y, y_h)\n",
    "\n",
    "            # tracking the loss\n",
    "            epoch_losses.append(float(loss))\n",
    "            batches_losses.append(float(loss))\n",
    "\n",
    "            # backpropagation\n",
    "            optimizer.zero_grad()\n",
    "            loss.backward()\n",
    "            optimizer.step()\n",
    "\n",
    "        print('Epoch loss:', statistics.mean(epoch_losses))\n",
    "        model.eval()\n",
    "        print('Validation error:', get_error(valid_dataloader, model), '\\n')"
   ],
   "metadata": {
    "id": "rWIa52JQU_KR"
   }
  },
  {
   "cell_type": "code",
   "source": [
    "# optimizer hyper-parameters\n",
    "lr = 1e-1\n",
    "momentum = .8\n",
    "wd = 1e-5"
   ],
   "metadata": {
    "id": "QHXD-stGZUhw"
   },
   "execution_count": 28,
   "outputs": []
  },
  {
   "cell_type": "code",
   "source": [
    "optimizer = torch.optim.Adam(model.parameters(), weight_decay=1e-5)"
   ],
   "metadata": {
    "id": "YphcFQQIaLUy"
   },
   "execution_count": 29,
   "outputs": []
  },
  {
   "cell_type": "code",
   "source": [
    "model.to('cuda')"
   ],
   "metadata": {
    "colab": {
     "base_uri": "https://localhost:8080/"
    },
    "id": "u2X_H_AsanX2",
    "outputId": "dc055b5c-4241-451f-c6aa-b134d3bc5667"
   },
   "execution_count": 30,
   "outputs": [
    {
     "output_type": "execute_result",
     "data": {
      "text/plain": [
       "AlexNetMini(\n",
       "  (features): Sequential(\n",
       "    (0): Conv2d(3, 48, kernel_size=(11, 11), stride=(4, 4), padding=(2, 2))\n",
       "    (1): ReLU(inplace=True)\n",
       "    (2): MaxPool2d(kernel_size=3, stride=2, padding=0, dilation=1, ceil_mode=False)\n",
       "    (3): Conv2d(48, 128, kernel_size=(5, 5), stride=(1, 1), padding=(2, 2))\n",
       "    (4): ReLU(inplace=True)\n",
       "    (5): MaxPool2d(kernel_size=3, stride=2, padding=0, dilation=1, ceil_mode=False)\n",
       "    (6): Conv2d(128, 192, kernel_size=(3, 3), stride=(1, 1), padding=(1, 1))\n",
       "    (7): ReLU(inplace=True)\n",
       "    (8): Conv2d(192, 192, kernel_size=(3, 3), stride=(1, 1), padding=(1, 1))\n",
       "    (9): ReLU(inplace=True)\n",
       "    (10): Conv2d(192, 128, kernel_size=(3, 3), stride=(1, 1), padding=(1, 1))\n",
       "    (11): ReLU(inplace=True)\n",
       "    (12): MaxPool2d(kernel_size=3, stride=2, padding=0, dilation=1, ceil_mode=False)\n",
       "  )\n",
       "  (avg_pool): AdaptiveAvgPool2d(output_size=(6, 6))\n",
       "  (classifier): Sequential(\n",
       "    (0): Dropout(p=0.5, inplace=False)\n",
       "    (1): Linear(in_features=4608, out_features=1024, bias=True)\n",
       "    (2): ReLU(inplace=True)\n",
       "    (3): Dropout(p=0.5, inplace=False)\n",
       "    (4): Linear(in_features=1024, out_features=1024, bias=True)\n",
       "    (5): ReLU(inplace=True)\n",
       "    (6): Linear(in_features=1024, out_features=40, bias=True)\n",
       "  )\n",
       ")"
      ]
     },
     "metadata": {},
     "execution_count": 30
    }
   ]
  },
  {
   "cell_type": "code",
   "source": [
    "train(model, train_dataloader, valid_dataloader, optimizer, torch.nn.MSELoss(), 5)"
   ],
   "metadata": {
    "colab": {
     "base_uri": "https://localhost:8080/"
    },
    "id": "w417VoIQa-Sk",
    "outputId": "9646c121-31b0-4d2e-997f-646daeec1de3"
   },
   "execution_count": 31,
   "outputs": [
    {
     "output_type": "stream",
     "name": "stdout",
     "text": [
      "Epoch 1\n",
      "[   317 |   5087] loss: 0.1381865135287937\n",
      "[   634 |   5087] loss: 0.11648092444762823\n",
      "[   951 |   5087] loss: 0.105462690797702\n",
      "[  1268 |   5087] loss: 0.10146822371411399\n",
      "[  1585 |   5087] loss: 0.09817663681243873\n",
      "[  1902 |   5087] loss: 0.09549906041343882\n",
      "[  2219 |   5087] loss: 0.09451349761207774\n",
      "[  2536 |   5087] loss: 0.09314461494281841\n",
      "[  2853 |   5087] loss: 0.0918995309092269\n",
      "[  3170 |   5087] loss: 0.09137140402470477\n",
      "[  3487 |   5087] loss: 0.09045808574284665\n",
      "[  3804 |   5087] loss: 0.08997996788389676\n",
      "[  4121 |   5087] loss: 0.08878864533611652\n",
      "[  4438 |   5087] loss: 0.08853852593748351\n",
      "[  4755 |   5087] loss: 0.08715780361405683\n",
      "[  5072 |   5087] loss: 0.08736318382743029\n",
      "Epoch loss: 0.09736916726608513\n",
      "Validation error: 0.11628472499358349 \n",
      "\n",
      "Epoch 2\n",
      "[   317 |   5087] loss: 0.08673739136208462\n",
      "[   634 |   5087] loss: 0.08627156189375496\n",
      "[   951 |   5087] loss: 0.08627654800091632\n",
      "[  1268 |   5087] loss: 0.08546546242590582\n",
      "[  1585 |   5087] loss: 0.08563004088608625\n",
      "[  1902 |   5087] loss: 0.08452446098301312\n",
      "[  2219 |   5087] loss: 0.0849578785783485\n",
      "[  2536 |   5087] loss: 0.08449374397846426\n",
      "[  2853 |   5087] loss: 0.08440572340687742\n",
      "[  3170 |   5087] loss: 0.08440348905531767\n",
      "[  3487 |   5087] loss: 0.0840419999056434\n",
      "[  3804 |   5087] loss: 0.0831689356300357\n",
      "[  4121 |   5087] loss: 0.08392079357845174\n",
      "[  4438 |   5087] loss: 0.08307080076601979\n",
      "[  4755 |   5087] loss: 0.08333166961320192\n",
      "[  5072 |   5087] loss: 0.08329352459132859\n",
      "Epoch loss: 0.08462461490416212\n",
      "Validation error: 0.10735587641978875 \n",
      "\n",
      "Epoch 3\n",
      "[   317 |   5087] loss: 0.08313125265832944\n",
      "[   634 |   5087] loss: 0.08255131270043105\n",
      "[   951 |   5087] loss: 0.08201086807890269\n",
      "[  1268 |   5087] loss: 0.08246127993150465\n",
      "[  1585 |   5087] loss: 0.08227985932811954\n",
      "[  1902 |   5087] loss: 0.08239139292142368\n",
      "[  2219 |   5087] loss: 0.08169666531992259\n",
      "[  2536 |   5087] loss: 0.08236786462249064\n",
      "[  2853 |   5087] loss: 0.08229767864904945\n",
      "[  3170 |   5087] loss: 0.08215643291593726\n",
      "[  3487 |   5087] loss: 0.08208545748649712\n",
      "[  3804 |   5087] loss: 0.08212769579154083\n",
      "[  4121 |   5087] loss: 0.08160400731424428\n",
      "[  4438 |   5087] loss: 0.08114626728679855\n",
      "[  4755 |   5087] loss: 0.08134908936565231\n",
      "[  5072 |   5087] loss: 0.08125000581004266\n",
      "Epoch loss: 0.08205681249970932\n",
      "Validation error: 0.10748520436195227 \n",
      "\n",
      "Epoch 4\n",
      "[   317 |   5087] loss: 0.0811553575051359\n",
      "[   634 |   5087] loss: 0.08110671208389926\n",
      "[   951 |   5087] loss: 0.08040564295715338\n",
      "[  1268 |   5087] loss: 0.08081407384353481\n",
      "[  1585 |   5087] loss: 0.08079579202252607\n",
      "[  1902 |   5087] loss: 0.0805684078473022\n",
      "[  2219 |   5087] loss: 0.08104291219816599\n",
      "[  2536 |   5087] loss: 0.08059793097269648\n",
      "[  2853 |   5087] loss: 0.08090096580493338\n",
      "[  3170 |   5087] loss: 0.08079199826679771\n",
      "[  3487 |   5087] loss: 0.08036235571847729\n",
      "[  3804 |   5087] loss: 0.07984387529103162\n",
      "[  4121 |   5087] loss: 0.08028444201224234\n",
      "[  4438 |   5087] loss: 0.08043215571893879\n",
      "[  4755 |   5087] loss: 0.07996043983600117\n",
      "[  5072 |   5087] loss: 0.08091841722700498\n",
      "Epoch loss: 0.08062268766633696\n",
      "Validation error: 0.10658298853116158 \n",
      "\n",
      "Epoch 5\n",
      "[   317 |   5087] loss: 0.07998946403400807\n",
      "[   634 |   5087] loss: 0.0799516363991924\n",
      "[   951 |   5087] loss: 0.07971263032888389\n",
      "[  1268 |   5087] loss: 0.07944424577315899\n",
      "[  1585 |   5087] loss: 0.07941311839909207\n",
      "[  1902 |   5087] loss: 0.07968957974848687\n",
      "[  2219 |   5087] loss: 0.07932563466886616\n",
      "[  2536 |   5087] loss: 0.0797777460059533\n",
      "[  2853 |   5087] loss: 0.07982768590800017\n",
      "[  3170 |   5087] loss: 0.07966147325580429\n",
      "[  3487 |   5087] loss: 0.07988307606252586\n",
      "[  3804 |   5087] loss: 0.0796479814530171\n",
      "[  4121 |   5087] loss: 0.07911343268509542\n",
      "[  4438 |   5087] loss: 0.0788358454871629\n",
      "[  4755 |   5087] loss: 0.07937322420652733\n",
      "[  5072 |   5087] loss: 0.0796153319746914\n",
      "Epoch loss: 0.07958715443532524\n",
      "Validation error: 0.1048924458714632 \n",
      "\n"
     ]
    }
   ]
  },
  {
   "cell_type": "code",
   "source": [
    "optimizer = torch.optim.Adam(model.parameters(), lr=5e-5, weight_decay=1e-5)"
   ],
   "metadata": {
    "id": "N-hCr53k7h_j"
   },
   "execution_count": 33,
   "outputs": []
  },
  {
   "cell_type": "code",
   "source": [
    "train(model, train_dataloader, valid_dataloader, optimizer, torch.nn.MSELoss(), 5)"
   ],
   "metadata": {
    "colab": {
     "base_uri": "https://localhost:8080/"
    },
    "id": "fCW3g3x5c9FE",
    "outputId": "9f2ac6e7-3bb1-49a3-f891-863290aabf1f"
   },
   "execution_count": 34,
   "outputs": [
    {
     "output_type": "stream",
     "name": "stdout",
     "text": [
      "Epoch 1\n",
      "[   317 |   5087] loss: 0.07513208809909941\n",
      "[   634 |   5087] loss: 0.0737480607929666\n",
      "[   951 |   5087] loss: 0.07408619375917061\n",
      "[  1268 |   5087] loss: 0.07395003552692546\n",
      "[  1585 |   5087] loss: 0.07350154829796181\n",
      "[  1902 |   5087] loss: 0.07351526303058167\n",
      "[  2219 |   5087] loss: 0.07336399976857454\n",
      "[  2536 |   5087] loss: 0.0733306203096259\n",
      "[  2853 |   5087] loss: 0.07278828137210491\n",
      "[  3170 |   5087] loss: 0.07291952159831576\n",
      "[  3487 |   5087] loss: 0.07281582410027176\n",
      "[  3804 |   5087] loss: 0.07286069204895654\n",
      "[  4121 |   5087] loss: 0.07313594407745716\n",
      "[  4438 |   5087] loss: 0.07244039216440183\n",
      "[  4755 |   5087] loss: 0.07284504944922796\n",
      "[  5072 |   5087] loss: 0.07238206943079876\n",
      "Epoch loss: 0.07330573291386161\n",
      "Validation error: 0.09611428318879543 \n",
      "\n",
      "Epoch 2\n",
      "[   317 |   5087] loss: 0.07233678343222488\n",
      "[   634 |   5087] loss: 0.07194787820901029\n",
      "[   951 |   5087] loss: 0.07250631285672685\n",
      "[  1268 |   5087] loss: 0.07208871390165214\n",
      "[  1585 |   5087] loss: 0.07199596672404075\n",
      "[  1902 |   5087] loss: 0.07160440771267618\n",
      "[  2219 |   5087] loss: 0.07217198214273347\n",
      "[  2536 |   5087] loss: 0.07136556205313288\n",
      "[  2853 |   5087] loss: 0.07154484215406966\n",
      "[  3170 |   5087] loss: 0.07140787447617633\n",
      "[  3487 |   5087] loss: 0.07176992898859812\n",
      "[  3804 |   5087] loss: 0.07136447006125556\n",
      "[  4121 |   5087] loss: 0.07137504177702714\n",
      "[  4438 |   5087] loss: 0.07165289797147366\n",
      "[  4755 |   5087] loss: 0.07097733448544512\n",
      "[  5072 |   5087] loss: 0.07111163066012627\n",
      "Epoch loss: 0.07170197328489258\n",
      "Validation error: 0.09515876112840115 \n",
      "\n",
      "Epoch 3\n",
      "[   317 |   5087] loss: 0.07082466190515817\n",
      "[   634 |   5087] loss: 0.07099116378543129\n",
      "[   951 |   5087] loss: 0.07088726075007712\n",
      "[  1268 |   5087] loss: 0.07094203305874337\n",
      "[  1585 |   5087] loss: 0.07052756346503643\n",
      "[  1902 |   5087] loss: 0.07079032340824416\n",
      "[  2219 |   5087] loss: 0.07096363263269329\n",
      "[  2536 |   5087] loss: 0.07100900462373198\n",
      "[  2853 |   5087] loss: 0.07054650369878823\n",
      "[  3170 |   5087] loss: 0.07073609856447963\n",
      "[  3487 |   5087] loss: 0.070517488705341\n",
      "[  3804 |   5087] loss: 0.07043253362460844\n",
      "[  4121 |   5087] loss: 0.07070384004185629\n",
      "[  4438 |   5087] loss: 0.07035220560121236\n",
      "[  4755 |   5087] loss: 0.07030328914335097\n",
      "[  5072 |   5087] loss: 0.07034745530375171\n",
      "Epoch loss: 0.07067719437013517\n",
      "Validation error: 0.09473848094542821 \n",
      "\n",
      "Epoch 4\n",
      "[   317 |   5087] loss: 0.07016097315693204\n",
      "[   634 |   5087] loss: 0.0695593432414607\n",
      "[   951 |   5087] loss: 0.06998777814938067\n",
      "[  1268 |   5087] loss: 0.0700634072772712\n",
      "[  1585 |   5087] loss: 0.06952321557592518\n",
      "[  1902 |   5087] loss: 0.07003464519225461\n",
      "[  2219 |   5087] loss: 0.07004568099458511\n",
      "[  2536 |   5087] loss: 0.0695338552988102\n",
      "[  2853 |   5087] loss: 0.06945900856414428\n",
      "[  3170 |   5087] loss: 0.06964741159547767\n",
      "[  3487 |   5087] loss: 0.06928858274964128\n",
      "[  3804 |   5087] loss: 0.06991066345328036\n",
      "[  4121 |   5087] loss: 0.06960051592545179\n",
      "[  4438 |   5087] loss: 0.07017460680487404\n",
      "[  4755 |   5087] loss: 0.0697632043825151\n",
      "[  5072 |   5087] loss: 0.06923441702870164\n",
      "Epoch loss: 0.06974367528541608\n",
      "Validation error: 0.09315166183007069 \n",
      "\n",
      "Epoch 5\n",
      "[   317 |   5087] loss: 0.06910613611859234\n",
      "[   634 |   5087] loss: 0.0688943452780555\n",
      "[   951 |   5087] loss: 0.06894943484748575\n",
      "[  1268 |   5087] loss: 0.06951542249190318\n",
      "[  1585 |   5087] loss: 0.0689239080889556\n",
      "[  1902 |   5087] loss: 0.06897130123213263\n",
      "[  2219 |   5087] loss: 0.0691975396514315\n",
      "[  2536 |   5087] loss: 0.06886598309178833\n",
      "[  2853 |   5087] loss: 0.06905272772259517\n",
      "[  3170 |   5087] loss: 0.06896568001585804\n",
      "[  3487 |   5087] loss: 0.06903065120572172\n",
      "[  3804 |   5087] loss: 0.069012165668917\n",
      "[  4121 |   5087] loss: 0.06901052915006406\n",
      "[  4438 |   5087] loss: 0.0688893438584233\n",
      "[  4755 |   5087] loss: 0.06866887282309848\n",
      "[  5072 |   5087] loss: 0.06900749764513894\n",
      "Epoch loss: 0.06900157450938332\n",
      "Validation error: 0.09335608933216487 \n",
      "\n"
     ]
    }
   ]
  }
 ],
 "metadata": {
  "kernelspec": {
   "display_name": "Python 3",
   "language": "python",
   "name": "python3"
  },
  "language_info": {
   "codemirror_mode": {
    "name": "ipython",
    "version": 2
   },
   "file_extension": ".py",
   "mimetype": "text/x-python",
   "name": "python",
   "nbconvert_exporter": "python",
   "pygments_lexer": "ipython2",
   "version": "2.7.6"
  },
  "colab": {
   "provenance": []
  },
  "accelerator": "GPU",
  "gpuClass": "standard"
 },
 "nbformat": 4,
 "nbformat_minor": 0
}
